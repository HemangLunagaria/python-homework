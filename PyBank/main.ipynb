{
 "cells": [
  {
   "cell_type": "code",
   "execution_count": 12,
   "metadata": {},
   "outputs": [
    {
     "name": "stdout",
     "output_type": "stream",
     "text": [
      "Financial Analysis \n",
      "---------------------------------\n",
      "\n",
      "Total Months: 86\n",
      "Total: $38382578\n",
      "Average Change: $-2315.12\n",
      "Greatest Increase in Profits: Feb-2012 ($1926159)\n",
      "Greatest Decrease in Profits: Sep-2013 ($-2196167)\n"
     ]
    }
   ],
   "source": [
    "import csv\n",
    "from pathlib import Path\n",
    "\n",
    "data_file = Path('./Resources/budget_data.csv')\n",
    "results_file = Path('./Results/results.txt')\n",
    "\n",
    "records = []\n",
    "profitloss_dict = {}\n",
    "total_months = 0\n",
    "total_profitloss = 0\n",
    "average_change = 0\n",
    "max_profit = 0\n",
    "least_profit = 0\n",
    "\n",
    "with open(data_file, 'r') as file:\n",
    "    rows = csv.reader(file, delimiter=\",\")\n",
    "    next(rows, None)\n",
    "    records = list(rows)\n",
    "    file.close()\n",
    "    \n",
    "for i in range(len(records)):\n",
    "    change = 0\n",
    "    if i > 0:\n",
    "        change = int(records[i][1]) -  int(records[i-1][1])\n",
    "    profitloss_dict[records[i][0]] = [int(records[i][1]), change]\n",
    "\n",
    "profitloss_dict = sorted(profitloss_dict.items(), key = lambda item : item[1][1])\n",
    "\n",
    "# I have used lambda functions to iterate through the values and calculate sum, average, max and min profit. It much more efficient then for loop.\n",
    "total_months = len(records)\n",
    "total_profitloss = sum(map(lambda x: int(x[1][0]), profitloss_dict))\n",
    "average_change = sum(map(lambda x: int(x[1][1]), profitloss_dict)) / (total_months - 1)\n",
    "max_profit = max(profitloss_dict, key = lambda item : item[1])\n",
    "least_profit = min(profitloss_dict, key = lambda item : item[1])\n",
    "\n",
    "result = \"Financial Analysis \\n---------------------------------\\n\\n\"\n",
    "\n",
    "result += f\"Total Months: {total_months}\\n\"\n",
    "result += f\"Total: ${total_profitloss}\\n\"\n",
    "result += f\"Average Change: ${average_change:.2f}\\n\"\n",
    "result += f\"Greatest Increase in Profits: {max_profit[0]} (${max_profit[1][1]})\\n\"\n",
    "result += f\"Greatest Decrease in Profits: {least_profit[0]} (${least_profit[1][1]})\"\n",
    "\n",
    "with open(results_file, 'w') as file:\n",
    "    file.write(result)\n",
    "    file.close()\n",
    "\n",
    "print(result)"
   ]
  },
  {
   "cell_type": "code",
   "execution_count": null,
   "metadata": {},
   "outputs": [],
   "source": []
  }
 ],
 "metadata": {
  "kernelspec": {
   "display_name": "Python 3",
   "language": "python",
   "name": "python3"
  },
  "language_info": {
   "codemirror_mode": {
    "name": "ipython",
    "version": 3
   },
   "file_extension": ".py",
   "mimetype": "text/x-python",
   "name": "python",
   "nbconvert_exporter": "python",
   "pygments_lexer": "ipython3",
   "version": "3.8.5"
  }
 },
 "nbformat": 4,
 "nbformat_minor": 4
}
