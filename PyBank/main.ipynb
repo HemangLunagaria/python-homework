{
 "cells": [
  {
   "cell_type": "code",
   "execution_count": 32,
   "metadata": {},
   "outputs": [
    {
     "name": "stdout",
     "output_type": "stream",
     "text": [
      "Financial Analysis \n",
      "---------------------------------\n",
      "\n",
      "Total Months: 86\n",
      "Total: $38382578\n",
      "Average Change: $446309.05\n",
      "Greatest Increase in Profits: Feb-2012 ($1170593)\n",
      "Greatest Decrease in Profits: Sep-2013 ($-1196225)\n"
     ]
    }
   ],
   "source": [
    "import csv\n",
    "from pathlib import Path\n",
    "\n",
    "data_file = Path('./Resources/budget_data.csv')\n",
    "results_file = Path('./Results/results.txt')\n",
    "\n",
    "records = []\n",
    "profitloss_list = {}\n",
    "total_months = 0\n",
    "total_profitloss = 0\n",
    "average_change = 0\n",
    "max_profit = 0\n",
    "least_profit = 0\n",
    "\n",
    "with open(data_file, 'r') as file:\n",
    "    rows = csv.reader(file, delimiter=\",\")\n",
    "    next(rows, None)\n",
    "    records = list(rows)\n",
    "    file.close()\n",
    "    \n",
    "for record in records:\n",
    "    profitloss_list[record[0]] = int(record[1])\n",
    "\n",
    "profitloss_list = sorted(profitloss_list.items(), key = lambda item : item[1])\n",
    "    \n",
    "total_months = len(records)\n",
    "total_profitloss = sum(map(lambda x: int(x[1]), profitloss_list))\n",
    "average_change = total_profitloss / total_months\n",
    "max_profit = max(profitloss_list, key = lambda item : item[1])\n",
    "least_profit = min(profitloss_list, key = lambda item : item[1])\n",
    "\n",
    "result = \"Financial Analysis \\n---------------------------------\\n\\n\"\n",
    "\n",
    "result += f\"Total Months: {total_months}\\n\"\n",
    "result += f\"Total: ${total_profitloss}\\n\"\n",
    "result += f\"Average Change: ${average_change:.2f}\\n\"\n",
    "result += f\"Greatest Increase in Profits: {max_profit[0]} (${max_profit[1]})\\n\"\n",
    "result += f\"Greatest Decrease in Profits: {least_profit[0]} (${least_profit[1]})\"\n",
    "\n",
    "with open(results_file, 'w') as file:\n",
    "    file.write(result)\n",
    "    file.close()\n",
    "\n",
    "print(result)"
   ]
  },
  {
   "cell_type": "code",
   "execution_count": null,
   "metadata": {},
   "outputs": [],
   "source": []
  }
 ],
 "metadata": {
  "kernelspec": {
   "display_name": "Python 3",
   "language": "python",
   "name": "python3"
  },
  "language_info": {
   "codemirror_mode": {
    "name": "ipython",
    "version": 3
   },
   "file_extension": ".py",
   "mimetype": "text/x-python",
   "name": "python",
   "nbconvert_exporter": "python",
   "pygments_lexer": "ipython3",
   "version": "3.8.5"
  }
 },
 "nbformat": 4,
 "nbformat_minor": 4
}
